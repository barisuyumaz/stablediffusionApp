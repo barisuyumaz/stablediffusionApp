{
 "cells": [
  {
   "cell_type": "code",
   "execution_count": 7,
   "metadata": {},
   "outputs": [],
   "source": [
    "#modern, soho, gothic\n",
    "style_dict = {\n",
    "    \"modern\": {\n",
    "        \"material\": \"sleek furniture\",\n",
    "        \"colors\": \"neutral tones with accents of black and white\",\n",
    "        \"decor\": \"minimalist decor\",\n",
    "        \"mood\": \"clean and functional\"\n",
    "    },\n",
    "    \"soho\": {\n",
    "        \"material\": \"exposed brick walls, warm wood countertops\",\n",
    "        \"colors\": \"earthy tones with industrial finishes\",\n",
    "        \"decor\": \"artistic touches and vintage accessories\",\n",
    "        \"mood\": \"creative and urban\"\n",
    "    },\n",
    "    \"gothic\": {\n",
    "        \"material\": \"dark, ornate furniture\",\n",
    "        \"colors\": \"deep red and black tones\",\n",
    "        \"decor\": \"intricate decor and luxurious textiles\",\n",
    "        \"mood\": \"dramatic and mysterious\"\n",
    "    }\n",
    "}"
   ]
  },
  {
   "cell_type": "code",
   "execution_count": 13,
   "metadata": {},
   "outputs": [],
   "source": [
    "def get_prompt_with_room_and_stlye(style_dict_par, room_type_par, style_par):\n",
    "    prompt_structure = \" \".join([\n",
    "    f\"A beautifully designed {style_par} {room_type_par}, featuring its signature elements.\",\n",
    "    f\"The space showcases {style_dict_par[style_par]['material']}, {style_dict_par[style_par]['colors']}, and {style_dict_par[style_par]['decor']},\",\n",
    "    f\"creating a {style_dict_par[style_par]['mood']} atmosphere. Every detail reflects the essence of {style_par}, with harmonious textures, lighting,\",\n",
    "    f\"and decor that define its unique charm.\"])\n",
    "    return prompt_structure"
   ]
  },
  {
   "cell_type": "code",
   "execution_count": 22,
   "metadata": {},
   "outputs": [
    {
     "name": "stdout",
     "output_type": "stream",
     "text": [
      "A beautifully designed modern living room, featuring its signature elements. The space showcases sleek furniture, neutral tones with accents of black and white, and minimalist decor, creating a clean and functional atmosphere. Every detail reflects the essence of modern, with harmonious textures, lighting, and decor that define its unique charm.\n"
     ]
    }
   ],
   "source": [
    "room_type = \"living room\" # kitchen\n",
    "style = \"modern\" # soho, gothic \n",
    "print(get_prompt_with_room_and_stlye(style_dict, room_type, style))"
   ]
  }
 ],
 "metadata": {
  "kernelspec": {
   "display_name": "Python 3",
   "language": "python",
   "name": "python3"
  },
  "language_info": {
   "codemirror_mode": {
    "name": "ipython",
    "version": 3
   },
   "file_extension": ".py",
   "mimetype": "text/x-python",
   "name": "python",
   "nbconvert_exporter": "python",
   "pygments_lexer": "ipython3",
   "version": "3.11.3"
  }
 },
 "nbformat": 4,
 "nbformat_minor": 2
}
